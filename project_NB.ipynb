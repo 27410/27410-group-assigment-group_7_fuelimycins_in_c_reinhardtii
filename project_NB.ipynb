{
 "cells": [
  {
   "cell_type": "code",
   "execution_count": 172,
   "id": "25296222-f604-4873-a88c-8184e3f5e0ec",
   "metadata": {},
   "outputs": [
    {
     "name": "stderr",
     "output_type": "stream",
     "text": [
      "No objective coefficients in model. Unclear what should be optimized\n"
     ]
    }
   ],
   "source": [
    "# Load model\n",
    "\n",
    "from cobra.io import read_sbml_model, write_sbml_model\n",
    "#path = 'Chlamy_model_iCre1355-master/iCre1355_SBML_Matlab_files/iCre1355_auto.xml'\n",
    "path_sbml3fbc = 'iCre1355_auto_fbc.xml'\n",
    "#model = read_sbml_model(path)\n",
    "#write_sbml_model(model, path_sbml3fbc)  # stores as SBML3 + fbc\n",
    "model = read_sbml_model(path_sbml3fbc)  # magic, no warnings\n",
    "\n",
    "# NOTE: I had to re-write the model because it gave me A LOT of warnings and made everything go super slow."
   ]
  },
  {
   "cell_type": "code",
   "execution_count": 3,
   "id": "97ab747e-b759-4eb0-af37-6cf83ad4dd79",
   "metadata": {},
   "outputs": [
    {
     "data": {
      "text/html": [
       "\n",
       "        <table>\n",
       "            <tr>\n",
       "                <td><strong>Name</strong></td>\n",
       "                <td>iCre1355</td>\n",
       "            </tr><tr>\n",
       "                <td><strong>Memory address</strong></td>\n",
       "                <td>0x07f8651cd1820</td>\n",
       "            </tr><tr>\n",
       "                <td><strong>Number of metabolites</strong></td>\n",
       "                <td>1845</td>\n",
       "            </tr><tr>\n",
       "                <td><strong>Number of reactions</strong></td>\n",
       "                <td>2394</td>\n",
       "            </tr><tr>\n",
       "                <td><strong>Number of groups</strong></td>\n",
       "                <td>117</td>\n",
       "            </tr><tr>\n",
       "                <td><strong>Objective expression</strong></td>\n",
       "                <td>0</td>\n",
       "            </tr><tr>\n",
       "                <td><strong>Compartments</strong></td>\n",
       "                <td>Cytosol, Chloroplast, Mitochondria, Glyoxysome, Flagellum, Extra-organism, Nucleus, Golgi Apparatus, Eyespot, Thylakoid Lumen, Inner Mitochondrial membrane space</td>\n",
       "            </tr>\n",
       "          </table>"
      ],
      "text/plain": [
       "<Model iCre1355 at 0x7f8651cd1820>"
      ]
     },
     "execution_count": 3,
     "metadata": {},
     "output_type": "execute_result"
    }
   ],
   "source": [
    "model"
   ]
  },
  {
   "cell_type": "code",
   "execution_count": 9,
   "id": "bd8a8b3a-da84-4bbf-b42c-d36112626f8b",
   "metadata": {},
   "outputs": [
    {
     "name": "stdout",
     "output_type": "stream",
     "text": [
      "\u001b[31merror: \u001b[0mNo objective coefficients in model. Unclear what should be optimized\n",
      "Scaling...\n",
      " A: min|aij| =  1.000e+00  max|aij| =  1.000e+00  ratio =  1.000e+00\n",
      "Problem data seem to be well scaled\n",
      "\u001b[1m============================= test session starts ==============================\u001b[0m\n",
      "platform darwin -- Python 3.8.2, pytest-4.6.11, py-1.11.0, pluggy-0.13.1\n",
      "rootdir: /Library/Frameworks/Python.framework/Versions/3.8/lib/python3.8/site-packages/memote/suite/tests\n",
      "plugins: anyio-3.6.1\n",
      "collected 164 items / 1 skipped / 163 selected                                 \u001b[0m\u001b[1m\n",
      "\n",
      "../../../../../../../../../../../../Library/Frameworks/Python.framework/Versions/3.8/lib/python3.8/site-packages/memote/suite/tests/test_annotation.py \u001b[31mF\u001b[0m\u001b[36m [  0%]\n",
      "\u001b[0m\u001b[31mF\u001b[0m\u001b[31mF\u001b[0m\u001b[31mF\u001b[0m\u001b[31mF\u001b[0m\u001b[31mF\u001b[0m\u001b[31mF\u001b[0m\u001b[31mF\u001b[0m\u001b[31mF\u001b[0m\u001b[31mF\u001b[0m\u001b[31mF\u001b[0m\u001b[31mF\u001b[0m\u001b[31mF\u001b[0m\u001b[31mF\u001b[0m\u001b[31mF\u001b[0m\u001b[31mF\u001b[0m\u001b[31mF\u001b[0m\u001b[31mF\u001b[0m\u001b[31mF\u001b[0m\u001b[31mF\u001b[0m\u001b[31mF\u001b[0m\u001b[31mF\u001b[0m\u001b[31mF\u001b[0m\u001b[31mF\u001b[0m\u001b[31mF\u001b[0m\u001b[31mF\u001b[0m\u001b[31mF\u001b[0m\u001b[31mF\u001b[0m\u001b[31mF\u001b[0m\u001b[31mF\u001b[0m\u001b[31mF\u001b[0m\u001b[31mF\u001b[0m\u001b[31mF\u001b[0m\u001b[31mF\u001b[0m\u001b[31mF\u001b[0m\u001b[31mF\u001b[0m\u001b[31mF\u001b[0m\u001b[31mF\u001b[0m\u001b[31mF\u001b[0m\u001b[31mF\u001b[0m\u001b[31mF\u001b[0m\u001b[31mF\u001b[0m\u001b[31mF\u001b[0m\u001b[31mF\u001b[0m\u001b[31mF\u001b[0m\u001b[31mF\u001b[0m\u001b[31mF\u001b[0m\u001b[31mF\u001b[0m\u001b[31mF\u001b[0m\u001b[31mF\u001b[0m\u001b[31mF\u001b[0m\u001b[31mF\u001b[0m\u001b[31mF\u001b[0m\u001b[31mF\u001b[0m\u001b[31mF\u001b[0m\u001b[31mF\u001b[0m\u001b[31mF\u001b[0m\u001b[31mF\u001b[0m\u001b[31mF\u001b[0m\u001b[31mF\u001b[0m\u001b[31mF\u001b[0m\u001b[31mF\u001b[0m\u001b[31mF\u001b[0m\u001b[32m.\u001b[0m\u001b[32m.\u001b[0m\u001b[36m         [ 39%]\u001b[0m\n",
      "../../../../../../../../../../../../Library/Frameworks/Python.framework/Versions/3.8/lib/python3.8/site-packages/memote/suite/tests/test_basic.py \u001b[32m.\u001b[0m\u001b[36m [ 40%]\n",
      "\u001b[0m\u001b[32m.\u001b[0m\u001b[32m.\u001b[0m\u001b[32m.\u001b[0m\u001b[32m.\u001b[0m\u001b[32m.\u001b[0m\u001b[31mF\u001b[0m\u001b[32m.\u001b[0m\u001b[32m.\u001b[0m\u001b[32m.\u001b[0m\u001b[32m.\u001b[0m\u001b[32m.\u001b[0m\u001b[32m.\u001b[0m\u001b[32m.\u001b[0m\u001b[32m.\u001b[0m\u001b[31mF\u001b[0m\u001b[32m.\u001b[0m\u001b[32m.\u001b[0m\u001b[32m.\u001b[0m\u001b[32m.\u001b[0m\u001b[32m.\u001b[0m\u001b[31mF\u001b[0m\u001b[31mF\u001b[0m\u001b[36m                                                   [ 53%]\u001b[0m\n",
      "../../../../../../../../../../../../Library/Frameworks/Python.framework/Versions/3.8/lib/python3.8/site-packages/memote/suite/tests/test_biomass.py \u001b[32m.\u001b[0m\u001b[36m [ 54%]\n",
      "\u001b[0m\u001b[31mF\u001b[0m\u001b[31mF\u001b[0m\u001b[31mF\u001b[0m\u001b[32m.\u001b[0m\u001b[31mF\u001b[0m\u001b[31mF\u001b[0m\u001b[32m.\u001b[0m\u001b[31mF\u001b[0m\u001b[31mF\u001b[0m\u001b[31mF\u001b[0m\u001b[31mF\u001b[0m\u001b[31mF\u001b[0m\u001b[31mF\u001b[0m\u001b[31mF\u001b[0m\u001b[31mF\u001b[0m\u001b[32m.\u001b[0m\u001b[32m.\u001b[0m\u001b[32m.\u001b[0m\u001b[31mF\u001b[0m\u001b[31mF\u001b[0m\u001b[31mF\u001b[0m\u001b[33ms\u001b[0m\u001b[33ms\u001b[0m\u001b[33ms\u001b[0m\u001b[31mF\u001b[0m\u001b[31mF\u001b[0m\u001b[31mF\u001b[0m\u001b[36m                                              [ 70%]\u001b[0m\n",
      "../../../../../../../../../../../../Library/Frameworks/Python.framework/Versions/3.8/lib/python3.8/site-packages/memote/suite/tests/test_consistency.py \u001b[31mF\u001b[0m\u001b[36m [ 71%]\n",
      "\u001b[0m\u001b[31mF\u001b[0m\u001b[31mF\u001b[0m\u001b[33ms\u001b[0m\u001b[33ms\u001b[0m\u001b[33ms\u001b[0m\u001b[33ms\u001b[0m\u001b[33ms\u001b[0m\u001b[33ms\u001b[0m\u001b[33ms\u001b[0m\u001b[33ms\u001b[0m\u001b[33ms\u001b[0m\u001b[33ms\u001b[0m\u001b[33ms\u001b[0m\u001b[33ms\u001b[0m\u001b[33ms\u001b[0m\u001b[33ms\u001b[0m\u001b[33ms\u001b[0m\u001b[33ms\u001b[0m\u001b[32m.\u001b[0m\u001b[31mF\u001b[0m\u001b[31mF\u001b[0m\u001b[31mF\u001b[0m\u001b[31mF\u001b[0m\u001b[31mF\u001b[0m\u001b[31mF\u001b[0m\u001b[31mF\u001b[0m\u001b[31mF\u001b[0m\u001b[32m.\u001b[0m\u001b[36m                                             [ 88%]\u001b[0m\n",
      "../../../../../../../../../../../../Library/Frameworks/Python.framework/Versions/3.8/lib/python3.8/site-packages/memote/suite/tests/test_essentiality.py \u001b[33ms\u001b[0m\u001b[36m [ 89%]\n",
      "\u001b[0m\u001b[36m                                                                         [ 89%]\u001b[0m\n",
      "../../../../../../../../../../../../Library/Frameworks/Python.framework/Versions/3.8/lib/python3.8/site-packages/memote/suite/tests/test_growth.py \u001b[33ms\u001b[0m\u001b[36m [ 89%]\n",
      "\u001b[0m\u001b[36m                                                                         [ 89%]\u001b[0m\n",
      "../../../../../../../../../../../../Library/Frameworks/Python.framework/Versions/3.8/lib/python3.8/site-packages/memote/suite/tests/test_matrix.py \u001b[32m.\u001b[0m\u001b[36m [ 90%]\n",
      "\u001b[0m\u001b[32m.\u001b[0m\u001b[32m.\u001b[0m\u001b[32m.\u001b[0m\u001b[36m                                                                      [ 92%]\u001b[0m\n",
      "../../../../../../../../../../../../Library/Frameworks/Python.framework/Versions/3.8/lib/python3.8/site-packages/memote/suite/tests/test_sbml.py \u001b[32m.\u001b[0m\u001b[36m [ 92%]\n",
      "\u001b[0m\u001b[32m.\u001b[0m\u001b[36m                                                                        [ 93%]\u001b[0m\n",
      "../../../../../../../../../../../../Library/Frameworks/Python.framework/Versions/3.8/lib/python3.8/site-packages/memote/suite/tests/test_sbo.py \u001b[32m.\u001b[0m\u001b[36m [ 93%]\n",
      "\u001b[0m\u001b[32m.\u001b[0m\u001b[32m.\u001b[0m\u001b[32m.\u001b[0m\u001b[32m.\u001b[0m\u001b[32m.\u001b[0m\u001b[32m.\u001b[0m\u001b[32m.\u001b[0m\u001b[32m.\u001b[0m\u001b[33ms\u001b[0m\u001b[31mF\u001b[0m\u001b[36m                                                               [100%]\u001b[0m\n",
      "\n",
      "\u001b[33m=============================== warnings summary ===============================\u001b[0m\n",
      "/Library/Frameworks/Python.framework/Versions/3.8/lib/python3.8/site-packages/_pytest/config/__init__.py:886\n",
      "  /Library/Frameworks/Python.framework/Versions/3.8/lib/python3.8/site-packages/_pytest/config/__init__.py:886: PytestAssertRewriteWarning: Module already imported so cannot be rewritten: anyio\n",
      "    self._mark_plugins_for_rewrite(hook)\n",
      "\n",
      "test_biomass.py::test_biomass_consistency[Biomass_Chlamy_auto]\n",
      "test_biomass.py::test_biomass_consistency[Biomass_Chlamy_hetero]\n",
      "test_biomass.py::test_biomass_consistency[Biomass_Chlamy_mixo]\n",
      "  /Library/Frameworks/Python.framework/Versions/3.8/lib/python3.8/site-packages/cobra/core/metabolite.py:191: UserWarning: The element 'R' does not appear in the periodic table\n",
      "    warn(f\"The element {e} does not appear in the periodic table\")\n",
      "\n",
      "-- Docs: https://docs.pytest.org/en/latest/warnings.html\n",
      "\u001b[31m\u001b[1m======= 98 failed, 44 passed, 23 skipped, 4 warnings in 2019.24 seconds ========\u001b[0m\n",
      "Writing snapshot report to 'iCre1355_auto_fbc.html'.\n"
     ]
    }
   ],
   "source": [
    "# Assess model with memote\n",
    "\n",
    "!memote report snapshot --filename \"iCre1355_auto_fbc.html\" \"/Users/ericbf10/Library/CloudStorage/GoogleDrive-ericbaufa10@gmail.com/My Drive/PERSONAL/DTU/DTU - Bioinformatics and Systems Biology/2022_Autumn_Semester/27410_Computer-Aided_Cell_Factory_Design/Project/iCre1355_auto_fbc.xml\""
   ]
  },
  {
   "cell_type": "code",
   "execution_count": 10,
   "id": "c09ddaeb-8c33-42b6-8245-b5c3b8db8840",
   "metadata": {},
   "outputs": [
    {
     "name": "stdout",
     "output_type": "stream",
     "text": [
      "\u001b[31merror: \u001b[0mNo objective coefficients in model. Unclear what should be optimized\n",
      "Scaling...\n",
      " A: min|aij| =  1.000e+00  max|aij| =  1.000e+00  ratio =  1.000e+00\n",
      "Problem data seem to be well scaled\n",
      "\u001b[1m============================= test session starts ==============================\u001b[0m\n",
      "platform darwin -- Python 3.8.2, pytest-4.6.11, py-1.11.0, pluggy-0.13.1\n",
      "rootdir: /Library/Frameworks/Python.framework/Versions/3.8/lib/python3.8/site-packages/memote/suite/tests\n",
      "plugins: anyio-3.6.1\n",
      "collected 164 items / 1 skipped / 163 selected                                 \u001b[0m\n",
      "\n",
      "../../../../../../../../../../../../Library/Frameworks/Python.framework/Versions/3.8/lib/python3.8/site-packages/memote/suite/tests/test_annotation.py \u001b[32m.\u001b[0m\u001b[36m [  0%]\n",
      "\u001b[0m\u001b[32m.\u001b[0m\u001b[32m.\u001b[0m\u001b[31mF\u001b[0m\u001b[31mF\u001b[0m\u001b[31mF\u001b[0m\u001b[31mF\u001b[0m\u001b[31mF\u001b[0m\u001b[31mF\u001b[0m\u001b[31mF\u001b[0m\u001b[31mF\u001b[0m\u001b[32m.\u001b[0m\u001b[32m.\u001b[0m\u001b[31mF\u001b[0m\u001b[31mF\u001b[0m\u001b[31mF\u001b[0m\u001b[31mF\u001b[0m\u001b[31mF\u001b[0m\u001b[32m.\u001b[0m\u001b[31mF\u001b[0m\u001b[31mF\u001b[0m\u001b[31mF\u001b[0m\u001b[31mF\u001b[0m\u001b[31mF\u001b[0m\u001b[31mF\u001b[0m\u001b[31mF\u001b[0m\u001b[31mF\u001b[0m\u001b[31mF\u001b[0m\u001b[31mF\u001b[0m\u001b[31mF\u001b[0m\u001b[31mF\u001b[0m\u001b[31mF\u001b[0m\u001b[31mF\u001b[0m\u001b[31mF\u001b[0m\u001b[32m.\u001b[0m\u001b[32m.\u001b[0m\u001b[31mF\u001b[0m\u001b[31mF\u001b[0m\u001b[32m.\u001b[0m\u001b[32m.\u001b[0m\u001b[31mF\u001b[0m\u001b[32m.\u001b[0m\u001b[32m.\u001b[0m\u001b[32m.\u001b[0m\u001b[31mF\u001b[0m\u001b[32m.\u001b[0m\u001b[32m.\u001b[0m\u001b[32m.\u001b[0m\u001b[32m.\u001b[0m\u001b[31mF\u001b[0m\u001b[31mF\u001b[0m\u001b[31mF\u001b[0m\u001b[32m.\u001b[0m\u001b[31mF\u001b[0m\u001b[31mF\u001b[0m\u001b[31mF\u001b[0m\u001b[31mF\u001b[0m\u001b[31mF\u001b[0m\u001b[31mF\u001b[0m\u001b[31mF\u001b[0m\u001b[31mF\u001b[0m\u001b[31mF\u001b[0m\u001b[31mF\u001b[0m\u001b[32m.\u001b[0m\u001b[32m.\u001b[0m\u001b[36m         [ 39%]\u001b[0m\n",
      "../../../../../../../../../../../../Library/Frameworks/Python.framework/Versions/3.8/lib/python3.8/site-packages/memote/suite/tests/test_basic.py \u001b[32m.\u001b[0m\u001b[36m [ 40%]\n",
      "\u001b[0m\u001b[32m.\u001b[0m\u001b[32m.\u001b[0m\u001b[32m.\u001b[0m\u001b[32m.\u001b[0m\u001b[32m.\u001b[0m\u001b[31mF\u001b[0m\u001b[32m.\u001b[0m\u001b[32m.\u001b[0m\u001b[32m.\u001b[0m\u001b[32m.\u001b[0m\u001b[32m.\u001b[0m\u001b[32m.\u001b[0m\u001b[32m.\u001b[0m\u001b[32m.\u001b[0m\u001b[31mF\u001b[0m\u001b[32m.\u001b[0m\u001b[32m.\u001b[0m\u001b[32m.\u001b[0m\u001b[31mF\u001b[0m\u001b[32m.\u001b[0m\u001b[31mF\u001b[0m\u001b[31mF\u001b[0m\u001b[36m                                                   [ 53%]\u001b[0m\n",
      "../../../../../../../../../../../../Library/Frameworks/Python.framework/Versions/3.8/lib/python3.8/site-packages/memote/suite/tests/test_biomass.py \u001b[32m.\u001b[0m\u001b[36m [ 54%]\n",
      "\u001b[0m\u001b[31mF\u001b[0m\u001b[31mF\u001b[0m\u001b[31mF\u001b[0m\u001b[32m.\u001b[0m\u001b[32m.\u001b[0m\u001b[32m.\u001b[0m\u001b[31mF\u001b[0m\u001b[31mF\u001b[0m\u001b[31mF\u001b[0m\u001b[32m.\u001b[0m\u001b[32m.\u001b[0m\u001b[32m.\u001b[0m\u001b[31mF\u001b[0m\u001b[31mF\u001b[0m\u001b[31mF\u001b[0m\u001b[32m.\u001b[0m\u001b[32m.\u001b[0m\u001b[32m.\u001b[0m\u001b[32m.\u001b[0m\u001b[32m.\u001b[0m\u001b[32m.\u001b[0m\u001b[33ms\u001b[0m\u001b[33ms\u001b[0m\u001b[33ms\u001b[0m\u001b[31mF\u001b[0m\u001b[31mF\u001b[0m\u001b[31mF\u001b[0m\u001b[36m                                              [ 70%]\u001b[0m\n",
      "../../../../../../../../../../../../Library/Frameworks/Python.framework/Versions/3.8/lib/python3.8/site-packages/memote/suite/tests/test_consistency.py \u001b[31mF\u001b[0m\u001b[36m [ 71%]\n",
      "\u001b[0m\u001b[31mF\u001b[0m\u001b[31mF\u001b[0m\u001b[33ms\u001b[0m\u001b[33ms\u001b[0m\u001b[33ms\u001b[0m\u001b[33ms\u001b[0m\u001b[33ms\u001b[0m\u001b[33ms\u001b[0m\u001b[33ms\u001b[0m\u001b[33ms\u001b[0m\u001b[33ms\u001b[0m\u001b[33ms\u001b[0m\u001b[33ms\u001b[0m\u001b[33ms\u001b[0m\u001b[33ms\u001b[0m\u001b[33ms\u001b[0m\u001b[33ms\u001b[0m\u001b[33ms\u001b[0m\u001b[32m.\u001b[0m\u001b[31mF\u001b[0m\u001b[31mF\u001b[0m\u001b[31mF\u001b[0m\u001b[31mF\u001b[0m\u001b[31mF\u001b[0m\u001b[32m.\u001b[0m\u001b[31mF\u001b[0m\u001b[31mF\u001b[0m\u001b[31mF\u001b[0m\u001b[36m                                             [ 88%]\u001b[0m\n",
      "../../../../../../../../../../../../Library/Frameworks/Python.framework/Versions/3.8/lib/python3.8/site-packages/memote/suite/tests/test_essentiality.py \u001b[33ms\u001b[0m\u001b[36m [ 89%]\n",
      "\u001b[0m\u001b[36m                                                                         [ 89%]\u001b[0m\n",
      "../../../../../../../../../../../../Library/Frameworks/Python.framework/Versions/3.8/lib/python3.8/site-packages/memote/suite/tests/test_growth.py \u001b[33ms\u001b[0m\u001b[36m [ 89%]\n",
      "\u001b[0m\u001b[36m                                                                         [ 89%]\u001b[0m\n",
      "../../../../../../../../../../../../Library/Frameworks/Python.framework/Versions/3.8/lib/python3.8/site-packages/memote/suite/tests/test_matrix.py \u001b[31mF\u001b[0m\u001b[36m [ 90%]\n",
      "\u001b[0m\u001b[32m.\u001b[0m\u001b[32m.\u001b[0m\u001b[32m.\u001b[0m\u001b[36m                                                                      [ 92%]\u001b[0m\n",
      "../../../../../../../../../../../../Library/Frameworks/Python.framework/Versions/3.8/lib/python3.8/site-packages/memote/suite/tests/test_sbml.py \u001b[32m.\u001b[0m\u001b[36m [ 92%]\n",
      "\u001b[0m\u001b[32m.\u001b[0m\u001b[36m                                                                        [ 93%]\u001b[0m\n",
      "../../../../../../../../../../../../Library/Frameworks/Python.framework/Versions/3.8/lib/python3.8/site-packages/memote/suite/tests/test_sbo.py \u001b[31mF\u001b[0m\u001b[36m [ 93%]\n",
      "\u001b[0m\u001b[31mF\u001b[0m\u001b[31mF\u001b[0m\u001b[31mF\u001b[0m\u001b[31mF\u001b[0m\u001b[31mF\u001b[0m\u001b[31mF\u001b[0m\u001b[31mF\u001b[0m\u001b[31mF\u001b[0m\u001b[31mF\u001b[0m\u001b[32m.\u001b[0m\u001b[36m                                                               [100%]\u001b[0m\n",
      "\n",
      "\u001b[33m=============================== warnings summary ===============================\u001b[0m\n",
      "/Library/Frameworks/Python.framework/Versions/3.8/lib/python3.8/site-packages/_pytest/config/__init__.py:886\n",
      "  /Library/Frameworks/Python.framework/Versions/3.8/lib/python3.8/site-packages/_pytest/config/__init__.py:886: PytestAssertRewriteWarning: Module already imported so cannot be rewritten: anyio\n",
      "    self._mark_plugins_for_rewrite(hook)\n",
      "\n",
      "-- Docs: https://docs.pytest.org/en/latest/warnings.html\n",
      "\u001b[31m\u001b[1m======== 84 failed, 59 passed, 22 skipped, 1 warnings in 752.83 seconds ========\u001b[0m\n",
      "Writing snapshot report to 'iRC1080.html'.\n"
     ]
    }
   ],
   "source": [
    "!memote report snapshot --filename \"iRC1080.html\" \"/Users/ericbf10/Library/CloudStorage/GoogleDrive-ericbaufa10@gmail.com/My Drive/PERSONAL/DTU/DTU - Bioinformatics and Systems Biology/2022_Autumn_Semester/27410_Computer-Aided_Cell_Factory_Design/Project/iRC1080.xml\""
   ]
  },
  {
   "cell_type": "code",
   "execution_count": 35,
   "id": "14858a1d-157f-4702-9045-c7374e6cb5a6",
   "metadata": {},
   "outputs": [
    {
     "name": "stdout",
     "output_type": "stream",
     "text": [
      "The model has 2394 reactions and 1845 metabolites\n"
     ]
    }
   ],
   "source": [
    "# Explore the model\n",
    "\n",
    "print(\"The model has %d reactions and %d metabolites\" % (len(model.reactions), len(model.metabolites)))"
   ]
  },
  {
   "cell_type": "code",
   "execution_count": 36,
   "id": "966f42e3-ccc2-4520-9444-c31cab0f8421",
   "metadata": {},
   "outputs": [
    {
     "name": "stdout",
     "output_type": "stream",
     "text": [
      "[[0. 0. 0. ... 0. 0. 0.]\n",
      " [0. 0. 0. ... 0. 0. 0.]\n",
      " [0. 0. 0. ... 0. 0. 0.]\n",
      " ...\n",
      " [0. 0. 0. ... 0. 0. 0.]\n",
      " [0. 0. 0. ... 0. 0. 0.]\n",
      " [0. 0. 0. ... 0. 0. 0.]]\n"
     ]
    }
   ],
   "source": [
    "# Create the stoichiometric matrix\n",
    "\n",
    "from cobra.util import create_stoichiometric_matrix\n",
    "S = create_stoichiometric_matrix(model)\n",
    "print(S)"
   ]
  },
  {
   "cell_type": "code",
   "execution_count": 37,
   "id": "1fd96cb2-35f4-4eaa-86d9-9d3c9d8e90d3",
   "metadata": {},
   "outputs": [
    {
     "name": "stdout",
     "output_type": "stream",
     "text": [
      "The percentage of non-zero elements in S is: 0.2494492781185122%\n"
     ]
    }
   ],
   "source": [
    "# Check non-zero elements of S\n",
    "\n",
    "import numpy as np\n",
    "non_zero_elem = np.count_nonzero(S)\n",
    "zero_elem = np.count_nonzero(S==0)\n",
    "print(\"The percentage of non-zero elements in S is:\", str(non_zero_elem/(zero_elem + non_zero_elem)*100) + \"%\")"
   ]
  },
  {
   "cell_type": "code",
   "execution_count": 55,
   "id": "c97f004e-935a-4d19-bbac-2c5caba9ad87",
   "metadata": {},
   "outputs": [
    {
     "name": "stdout",
     "output_type": "stream",
     "text": [
      "Biomass_Chlamy_auto\n",
      "Biomass_Chlamy_mixo\n",
      "Biomass_Chlamy_hetero\n"
     ]
    }
   ],
   "source": [
    "for reaction in model.reactions.query('Biomass', 'name'):\n",
    "    print(reaction.id)"
   ]
  },
  {
   "cell_type": "code",
   "execution_count": 173,
   "id": "9c38ed1f-914b-48f5-9ec0-3d9b23073c37",
   "metadata": {},
   "outputs": [
    {
     "data": {
      "text/plain": [
       "{'EX_h_e': 10.0,\n",
       " 'EX_h2o_e': 10.0,\n",
       " 'EX_pi_e': 10.0,\n",
       " 'EX_nh4_e': 1.0,\n",
       " 'EX_so4_e': 10.0,\n",
       " 'EX_fe2_e': 10.0,\n",
       " 'EX_mg2_e': 10.0,\n",
       " 'EX_na1_e': 10.0,\n",
       " 'EX_photonVis_e': 80.0,\n",
       " 'EX_o2_e': 10.0,\n",
       " 'EX_co2_e': 2.0,\n",
       " 'EX_ac_e': 1000}"
      ]
     },
     "execution_count": 173,
     "metadata": {},
     "output_type": "execute_result"
    }
   ],
   "source": [
    "# Change medium composition (acetate)\n",
    "\n",
    "medium = model.medium\n",
    "medium['EX_ac_e'] = 1000\n",
    "model.medium = medium\n",
    "model.medium"
   ]
  },
  {
   "cell_type": "code",
   "execution_count": 174,
   "id": "66879a9b-c7ec-4b47-9b32-2aa85f5a202f",
   "metadata": {},
   "outputs": [
    {
     "name": "stdout",
     "output_type": "stream",
     "text": [
      "11.0 ac_c + 7.0 amet_c + 11.0 nadph_c --> 7.0 ahcys_c + 11.0 h_c + jet_juice_c + 11.0 nadp_c\n"
     ]
    }
   ],
   "source": [
    "# Add heterologous reactions and metabolites\n",
    "\n",
    "from cobra import Reaction, Metabolite\n",
    "\n",
    "### Create metabolite ###\n",
    "metabolite1 = Metabolite('jet_juice_c')\n",
    "metabolite1.name = 'Jet Juice'\n",
    "metabolite1.formula = 'C29H38O2'\n",
    "metabolite1.compartment = 'c'\n",
    "model.add_metabolites([metabolite1])\n",
    "\n",
    "### Define 1st reaction ###\n",
    "reaction1 = Reaction('jet_fuel')\n",
    "reaction1.name = 'iPKS'\n",
    "reaction1.lower_bound = 0.  # This makes the reaction reversible\n",
    "reaction1.upper_bound = 1000.  # This is the default\n",
    "\n",
    "# Add metabolites to the reaction\n",
    "reaction1.add_metabolites({\n",
    "    model.metabolites.get_by_id(\"ac_c\"): -11.0,\n",
    "    model.metabolites.get_by_id(\"nadp_c\"): 11.0,\n",
    "    model.metabolites.get_by_id(\"amet_c\"): -7.0,\n",
    "    model.metabolites.get_by_id(\"ahcys_c\"): 7.0,\n",
    "    model.metabolites.get_by_id(\"nadph_c\"): -11.0,\n",
    "    model.metabolites.get_by_id(\"h_c\"): 11.0,\n",
    "    model.metabolites.get_by_id(\"jet_juice_c\"): 1.0\n",
    "})\n",
    "\n",
    "model.add_reactions([reaction1])\n",
    "\n",
    "print(reaction1.reaction)"
   ]
  },
  {
   "cell_type": "code",
   "execution_count": 167,
   "id": "82038650-6e81-460c-bad8-1368a5670423",
   "metadata": {},
   "outputs": [
    {
     "name": "stdout",
     "output_type": "stream",
     "text": [
      "ACCOAtm ACCOAtm: accoa_c + coa_m <=> accoa_m + coa_c Acetyl-CoA:CoA antiporter, mitochondrial \n",
      "\n",
      "ACCOAtx ACCOAtx: accoa_c + coa_x <=> accoa_x + coa_c Acetyl-CoA:CoA antiporter, glyoxysomal \n",
      "\n",
      "AAAT AAAT: accoa_c + glu_L_c --> acglu_c + coa_c + h_c amino-acid N-acetyltransferase \n",
      "\n",
      "ACALD ACALD: acald_c + coa_c + nad_c --> accoa_c + h_c + nadh_c Acetaldehyde dehydrogenase (acetylating) \n",
      "\n",
      "MCDC MCDC: malcoa_c --> accoa_c + co2_c malonyl-CoA decarboxylase \n",
      "\n",
      "BCACT BCACT: ac_c + btcoa_c <=> accoa_c + but_c butanoyl-CoA:acetate CoA transferase \n",
      "\n",
      "ACGAM6PSi ACGAM6PSi: accoa_c + gam6p_c --> acgam6p_c + coa_c + h_c acetyl-CoA:D-glucosamine-6-phosphate N-acetyltransferase \n",
      "\n",
      "ACDHi ACDHi: accoa_c + 2.0 h_c + 2.0 nadh_c --> coa_c + etoh_c + 2.0 nad_c acetaldehyde-CoA dehydrogenase \n",
      "\n",
      "CS CS: accoa_c + h2o_c + oaa_c --> cit_c + coa_c + h_c citrate synthase \n",
      "\n",
      "MHGS MHGS: aacoa_c + accoa_c + h2o_c --> coa_c + hmgcoa_c hydroxymethylglutaryl-coa synthase \n",
      "\n",
      "ACACT ACACT: 2.0 accoa_c --> aacoa_c + coa_c Acetyl-CoA C-acetyltransferase \n",
      "\n",
      "ACCOAth ACCOAth: accoa_c + coa_h <=> accoa_h + coa_c Acetyl-CoA:CoA antiporter, chloroplast \n",
      "\n",
      "ATPCS ATPCS: atp_c + cit_c + coa_c --> accoa_c + adp_c + oaa_c + pi_c ATP citrate synthase \n",
      "\n",
      "IPMS IPMS: 3mob_c + accoa_c + h2o_c --> 3c3hmp_c + coa_c + h_c 2-isopropylmalate synthase \n",
      "\n",
      "ACS ACS: ac_c + atp_c + coa_c --> accoa_c + amp_c + ppi_c acetyl-CoA synthetase \n",
      "\n"
     ]
    }
   ],
   "source": [
    "## DEBUGGING ##\n",
    "\n",
    "for reaction in model.metabolites.accoa_c.reactions:\n",
    "    print(reaction.id, reaction, reaction.name, \"\\n\")"
   ]
  },
  {
   "cell_type": "code",
   "execution_count": 162,
   "id": "c96294d1-cc5d-4f12-b423-900e04b3ab6f",
   "metadata": {},
   "outputs": [],
   "source": [
    "model.reactions.get_by_id('EX_ac_e').lower_bound = 0.\n",
    "model.reactions.get_by_id('EX_ac_e').upper_bound = 0."
   ]
  },
  {
   "cell_type": "code",
   "execution_count": 165,
   "id": "269f41ac-772e-422a-9fd5-9da3e242b08a",
   "metadata": {},
   "outputs": [
    {
     "data": {
      "text/html": [
       "\n",
       "        <table>\n",
       "            <tr>\n",
       "                <td><strong>Reaction identifier</strong></td><td>EX_ac_e</td>\n",
       "            </tr><tr>\n",
       "                <td><strong>Name</strong></td><td>Acetate exchange</td>\n",
       "            </tr><tr>\n",
       "                <td><strong>Memory address</strong></td>\n",
       "                <td>0x7f86402226a0</td>\n",
       "            </tr><tr>\n",
       "                <td><strong>Stoichiometry</strong></td>\n",
       "                <td>\n",
       "                    <p style='text-align:right'>ac_e --></p>\n",
       "                    <p style='text-align:right'>Acetate --></p>\n",
       "                </td>\n",
       "            </tr><tr>\n",
       "                <td><strong>GPR</strong></td><td></td>\n",
       "            </tr><tr>\n",
       "                <td><strong>Lower bound</strong></td><td>0.0</td>\n",
       "            </tr><tr>\n",
       "                <td><strong>Upper bound</strong></td><td>0.0</td>\n",
       "            </tr>\n",
       "        </table>\n",
       "        "
      ],
      "text/plain": [
       "<Reaction EX_ac_e at 0x7f86402226a0>"
      ]
     },
     "execution_count": 165,
     "metadata": {},
     "output_type": "execute_result"
    }
   ],
   "source": [
    "model.reactions.get_by_id('EX_ac_e')"
   ]
  },
  {
   "cell_type": "code",
   "execution_count": 175,
   "id": "f03de751-c70a-4d3a-917f-a79807a4bb44",
   "metadata": {},
   "outputs": [],
   "source": [
    "# Add objective function\n",
    "\n",
    "model.objective = 'jet_fuel'"
   ]
  },
  {
   "cell_type": "code",
   "execution_count": 176,
   "id": "6c8c9166-cf2f-48c5-be40-422471f03485",
   "metadata": {},
   "outputs": [
    {
     "data": {
      "text/html": [
       "<strong><em>Optimal</em> solution with objective value 0.000</strong><br><div>\n",
       "<style scoped>\n",
       "    .dataframe tbody tr th:only-of-type {\n",
       "        vertical-align: middle;\n",
       "    }\n",
       "\n",
       "    .dataframe tbody tr th {\n",
       "        vertical-align: top;\n",
       "    }\n",
       "\n",
       "    .dataframe thead th {\n",
       "        text-align: right;\n",
       "    }\n",
       "</style>\n",
       "<table border=\"1\" class=\"dataframe\">\n",
       "  <thead>\n",
       "    <tr style=\"text-align: right;\">\n",
       "      <th></th>\n",
       "      <th>fluxes</th>\n",
       "      <th>reduced_costs</th>\n",
       "    </tr>\n",
       "  </thead>\n",
       "  <tbody>\n",
       "    <tr>\n",
       "      <th>AAT</th>\n",
       "      <td>0.0</td>\n",
       "      <td>0.0</td>\n",
       "    </tr>\n",
       "    <tr>\n",
       "      <th>ALATLm</th>\n",
       "      <td>0.0</td>\n",
       "      <td>0.0</td>\n",
       "    </tr>\n",
       "    <tr>\n",
       "      <th>ASNTLm</th>\n",
       "      <td>0.0</td>\n",
       "      <td>0.0</td>\n",
       "    </tr>\n",
       "    <tr>\n",
       "      <th>ASPO</th>\n",
       "      <td>0.0</td>\n",
       "      <td>0.0</td>\n",
       "    </tr>\n",
       "    <tr>\n",
       "      <th>ASPOm</th>\n",
       "      <td>0.0</td>\n",
       "      <td>0.0</td>\n",
       "    </tr>\n",
       "    <tr>\n",
       "      <th>...</th>\n",
       "      <td>...</td>\n",
       "      <td>...</td>\n",
       "    </tr>\n",
       "    <tr>\n",
       "      <th>PYDXS</th>\n",
       "      <td>0.0</td>\n",
       "      <td>0.0</td>\n",
       "    </tr>\n",
       "    <tr>\n",
       "      <th>Biomass_Chlamy_auto</th>\n",
       "      <td>0.0</td>\n",
       "      <td>0.0</td>\n",
       "    </tr>\n",
       "    <tr>\n",
       "      <th>Biomass_Chlamy_mixo</th>\n",
       "      <td>0.0</td>\n",
       "      <td>0.0</td>\n",
       "    </tr>\n",
       "    <tr>\n",
       "      <th>Biomass_Chlamy_hetero</th>\n",
       "      <td>0.0</td>\n",
       "      <td>0.0</td>\n",
       "    </tr>\n",
       "    <tr>\n",
       "      <th>jet_fuel</th>\n",
       "      <td>0.0</td>\n",
       "      <td>0.0</td>\n",
       "    </tr>\n",
       "  </tbody>\n",
       "</table>\n",
       "<p>2395 rows × 2 columns</p>\n",
       "</div>"
      ],
      "text/plain": [
       "<Solution 0.000 at 0x7f864b1b9be0>"
      ]
     },
     "execution_count": 176,
     "metadata": {},
     "output_type": "execute_result"
    }
   ],
   "source": [
    "# Simulate the model\n",
    "\n",
    "solution = model.optimize()\n",
    "solution"
   ]
  },
  {
   "cell_type": "code",
   "execution_count": null,
   "id": "7689c50d-04d4-4cd2-858a-bbac30493aa4",
   "metadata": {},
   "outputs": [],
   "source": []
  }
 ],
 "metadata": {
  "kernelspec": {
   "display_name": "Python 3 (ipykernel)",
   "language": "python",
   "name": "python3"
  },
  "language_info": {
   "codemirror_mode": {
    "name": "ipython",
    "version": 3
   },
   "file_extension": ".py",
   "mimetype": "text/x-python",
   "name": "python",
   "nbconvert_exporter": "python",
   "pygments_lexer": "ipython3",
   "version": "3.8.2"
  }
 },
 "nbformat": 4,
 "nbformat_minor": 5
}
